{
 "cells": [
  {
   "cell_type": "raw",
   "metadata": {},
   "source": [
    "1. (D) int(‘32’)\n",
    "\n",
    "2. (C) 4\n",
    "\n",
    "3. (B) (a**b)%c\n",
    "\n",
    "4. (A) <class ‘type’>\n",
    "\n",
    "5. (C) 65\n",
    "\n",
    "6. (D) Method\n",
    "\n",
    "7. (B) False\n",
    "\n",
    "8. (B) Sometimes\n",
    "\n",
    "9. (A) -68.7e100\n",
    "   (B) 42e3\n",
    "   (C) 4.2038\n",
    "   (D) 3.0\n",
    "\n",
    "10.(B) You can pass keyword arguments in any order. \n",
    "     \n"
   ]
  },
  {
   "cell_type": "raw",
   "metadata": {},
   "source": [
    "11. Write a python function print pyramid of stars. Level of pyramid should be taken as an input from the user. E.g.\n",
    "Input = 5"
   ]
  },
  {
   "cell_type": "code",
   "execution_count": 5,
   "metadata": {},
   "outputs": [
    {
     "name": "stdout",
     "output_type": "stream",
     "text": [
      "        * \n",
      "       * * \n",
      "      * * * \n",
      "     * * * * \n",
      "    * * * * * \n"
     ]
    }
   ],
   "source": [
    "def triangle(n): \n",
    "      \n",
    "    # number of spaces \n",
    "    k = 2*n - 2\n",
    "  \n",
    "    # outer loop to handle number of rows \n",
    "    for i in range(0, n): \n",
    "      \n",
    "        # inner loop to handle number spaces \n",
    "        # values changing acc. to requirement \n",
    "        for j in range(0, k): \n",
    "            print(end=\" \") \n",
    "      \n",
    "        # decrementing k after each loop \n",
    "        k = k - 1\n",
    "      \n",
    "        # inner loop to handle number of columns \n",
    "        # values changing acc. to outer loop \n",
    "        for j in range(0, i+1): \n",
    "          \n",
    "            # printing stars \n",
    "            print(\"* \", end=\"\") \n",
    "      \n",
    "        # ending line after each row \n",
    "        print(\"\\r\") \n",
    "  \n",
    "# Driver Code \n",
    "n = 5\n",
    "triangle(n) "
   ]
  },
  {
   "cell_type": "raw",
   "metadata": {},
   "source": [
    "12. Write a python function print Hourglass pattern. E.g.\n",
    "Input = 5"
   ]
  },
  {
   "cell_type": "code",
   "execution_count": 6,
   "metadata": {},
   "outputs": [
    {
     "name": "stdout",
     "output_type": "stream",
     "text": [
      "* * * * * \n",
      " * * * * \n",
      "  * * * \n",
      "   * * \n",
      "    * \n",
      "   * * \n",
      "  * * * \n",
      " * * * * \n",
      "* * * * * \n"
     ]
    }
   ],
   "source": [
    "def main():\n",
    "    character = \"*\"\n",
    "    rows_number = 5\n",
    "\n",
    "    if not(character.endswith(\" \")):    # Ending the character with a space is done so as to adjust the output.\n",
    "        character+= \" \" \n",
    "\n",
    "    for i in range(rows_number):\n",
    "        print(\" \"*i+character*(rows_number-i))\n",
    "    for j in range(2, rows_number+1):\n",
    "        print(\" \"*(rows_number-j)+character*j)\n",
    "\n",
    "if __name__ == \"__main__\":\n",
    "    main()"
   ]
  },
  {
   "cell_type": "code",
   "execution_count": null,
   "metadata": {},
   "outputs": [],
   "source": []
  }
 ],
 "metadata": {
  "kernelspec": {
   "display_name": "Python 3",
   "language": "python",
   "name": "python3"
  },
  "language_info": {
   "codemirror_mode": {
    "name": "ipython",
    "version": 3
   },
   "file_extension": ".py",
   "mimetype": "text/x-python",
   "name": "python",
   "nbconvert_exporter": "python",
   "pygments_lexer": "ipython3",
   "version": "3.7.6"
  }
 },
 "nbformat": 4,
 "nbformat_minor": 4
}
