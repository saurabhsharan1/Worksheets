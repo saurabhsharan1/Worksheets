{
 "cells": [
  {
   "cell_type": "code",
   "execution_count": 2,
   "metadata": {},
   "outputs": [
    {
     "name": "stdout",
     "output_type": "stream",
     "text": [
      "input the coefficient a 10\n",
      "input the coefficient b 25\n",
      "input the coefficient c 56\n",
      "The solutions are  root1: (-1.25-2.009353129741012j) and root2 :(-1.25+2.009353129741012j)\n"
     ]
    }
   ],
   "source": [
    "import cmath\n",
    " \n",
    "a = int(input(\"input the coefficient a \"))\n",
    "b = int(input(\"input the coefficient b \"))\n",
    "c = int(input(\"input the coefficient c \"))\n",
    " \n",
    " \n",
    "if a==0:\n",
    "    \n",
    "    print(\"Please enter a positive integer for coef a\")\t\n",
    "else:\n",
    "    d = (b**2) - (4*a*c)\n",
    "    root1 = (-b-cmath.sqrt(d))/(2*a)\n",
    "    root2 = (-b+cmath.sqrt(d))/(2*a)\n",
    "    print('The solutions are  root1: {0} and root2 :{1}'.format(root1,root2))"
   ]
  },
  {
   "cell_type": "code",
   "execution_count": null,
   "metadata": {},
   "outputs": [],
   "source": []
  }
 ],
 "metadata": {
  "kernelspec": {
   "display_name": "Python 3",
   "language": "python",
   "name": "python3"
  },
  "language_info": {
   "codemirror_mode": {
    "name": "ipython",
    "version": 3
   },
   "file_extension": ".py",
   "mimetype": "text/x-python",
   "name": "python",
   "nbconvert_exporter": "python",
   "pygments_lexer": "ipython3",
   "version": "3.7.6"
  }
 },
 "nbformat": 4,
 "nbformat_minor": 4
}
